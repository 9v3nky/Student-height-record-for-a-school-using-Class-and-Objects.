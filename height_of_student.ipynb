{
 "cells": [
  {
   "cell_type": "code",
   "execution_count": 1,
   "id": "142f2fd1",
   "metadata": {},
   "outputs": [],
   "source": [
    "class student():\n",
    "    def __init__(self, name, height):\n",
    "        self.name = name\n",
    "        self.height = height\n",
    "    def display():\n",
    "        print(self.name, self.height)\n",
    "        "
   ]
  },
  {
   "cell_type": "code",
   "execution_count": null,
   "id": "46fa796d",
   "metadata": {},
   "outputs": [
    {
     "name": "stdout",
     "output_type": "stream",
     "text": [
      "0:exit\n",
      "1: add student\n",
      "2: remove student\n",
      "3: view students\n",
      "Select option1\n",
      "enter student nameff\n",
      "enter student height12\n",
      "successfully added\n",
      "please select correct number\n",
      "0:exit\n",
      "1: add student\n",
      "2: remove student\n",
      "3: view students\n",
      "Select option2\n",
      "enter student name\n",
      "ff\n",
      "successfully deleted\n",
      "\n",
      "please select correct number\n",
      "0:exit\n",
      "1: add student\n",
      "2: remove student\n",
      "3: view students\n"
     ]
    }
   ],
   "source": [
    "\n",
    "details = {}\n",
    "loop = 1\n",
    "while loop:\n",
    "    try:\n",
    "        print(\"\\n0:exit\\n1: add student\\n2: remove student\\n3: view students\")\n",
    "        loop = int(input(\"Select option\"))            \n",
    "        if loop == 1 :\n",
    "            name = input(\"enter student name\")\n",
    "            height = int(input(\"enter student height\"))\n",
    "            if(height > 0):\n",
    "                stud = student(name, height)\n",
    "                details[name] = stud\n",
    "                \n",
    "                print(\"successfully added\")\n",
    "            else:\n",
    "                print(\"height should be greater than zero\")\n",
    "        if loop == 2 :\n",
    "            name = str(input(\"enter student name\\n\"))\n",
    "            if name in details:\n",
    "                del details[name]\n",
    "                print(\"successfully deleted\\n\")\n",
    "            else:\n",
    "                print(\"No details found with student name\\n\", name)\n",
    "        if loop == 3:\n",
    "            for detail in details:\n",
    "                stu = details[detail]\n",
    "            print(stu.name, stu.height)\n",
    "        else:\n",
    "            print(\"please select correct number\")\n",
    "    except:\n",
    "        print(\"please enter number\\n\")\n",
    "                \n",
    "        \n",
    "            \n"
   ]
  },
  {
   "cell_type": "code",
   "execution_count": 8,
   "id": "7aaaf6b6",
   "metadata": {},
   "outputs": [],
   "source": []
  },
  {
   "cell_type": "code",
   "execution_count": null,
   "id": "3243ac3a",
   "metadata": {},
   "outputs": [],
   "source": []
  }
 ],
 "metadata": {
  "kernelspec": {
   "display_name": "Python 3 (ipykernel)",
   "language": "python",
   "name": "python3"
  },
  "language_info": {
   "codemirror_mode": {
    "name": "ipython",
    "version": 3
   },
   "file_extension": ".py",
   "mimetype": "text/x-python",
   "name": "python",
   "nbconvert_exporter": "python",
   "pygments_lexer": "ipython3",
   "version": "3.8.10"
  }
 },
 "nbformat": 4,
 "nbformat_minor": 5
}
